{
  "nbformat": 4,
  "nbformat_minor": 0,
  "metadata": {
    "colab": {
      "name": "EDA_Тайвань.ipynb",
      "provenance": [],
      "collapsed_sections": [
        "W5wJxTEnYh5s",
        "2Yfn2oxqky4X",
        "Fi4HAiIiuHFa",
        "rhKF8q3-2V8H",
        "TBiMpqpZ8XeH",
        "UpRldZmDs6_R",
        "FvhPnQH8HGx8"
      ],
      "toc_visible": true,
      "authorship_tag": "ABX9TyNpd8HXyUpwpx8430DFomfb",
      "include_colab_link": true
    },
    "kernelspec": {
      "name": "python3",
      "display_name": "Python 3"
    }
  },
  "cells": [
    {
      "cell_type": "markdown",
      "metadata": {
        "id": "view-in-github",
        "colab_type": "text"
      },
      "source": [
        "<a href=\"https://colab.research.google.com/github/vita1787/ProG/blob/master/EDA_%D0%91%D1%83%D0%B9%D0%BD%D0%B5%D0%B2%D0%B8%D1%87.ipynb\" target=\"_parent\"><img src=\"https://colab.research.google.com/assets/colab-badge.svg\" alt=\"Open In Colab\"/></a>"
      ]
    },
    {
      "cell_type": "markdown",
      "metadata": {
        "id": "W5wJxTEnYh5s",
        "colab_type": "text"
      },
      "source": [
        "\n",
        "#Данные.Описание, скачивание"
      ]
    },
    {
      "cell_type": "markdown",
      "metadata": {
        "id": "t_uN3Ljlk5OK",
        "colab_type": "text"
      },
      "source": [
        "Информация об атрибутах:\n",
        "\n",
        "В этом исследовании в качестве переменной ответа использовалась бинарная переменная, оплата по умолчанию (Да = 1, Нет = 0). В этом исследовании были рассмотрены литературные данные и использовались следующие 23 переменные в качестве объяснительных переменных:\n",
        "\n",
        "LIMIT_BAL: Сумма данного кредита (в долларах США): она включает как индивидуальный потребительский кредит, так и его / ее семейный (дополнительный) кредит.\n",
        "\n",
        "SEX: Пол (1 = мужчина; 2 = женщина).\n",
        "\n",
        "EDUCATION: (1 = аспирантура; 2 = университет; 3 = старшая школа; 4 = другие).\n",
        "\n",
        "MARRIADGE: Семейное положение (1 = женат; 2 = холост; 3 = другие).\n",
        "\n",
        "AGE: возраст (год).\n",
        "\n",
        "X6 - X11: история прошлых платежей. Мы отслеживали прошлые ежемесячные записи платежей (с апреля по сентябрь 2005 года) следующим образом: X6 = статус погашения в сентябре 2005 года; X7 = статус погашения в августе 2005 г .; , , .; X11 = статус погашения в апреле 2005 года. Шкала измерения статуса погашения: -1 = оплачивать должным образом; 1 = отсрочка платежа на один месяц; 2 = отсрочка платежа на два месяца; , , . 8 = отсрочка платежа на восемь месяцев; 9 = отсрочка платежа на девять месяцев и выше.\n",
        "\n",
        "X12-X17: сумма выписки по счету (в долларах США). X12 = сумма выписки по счету в сентябре 2005 г .; X13 = сумма выписки по счету в августе 2005 г .; , , . X17 = сумма выписки по счету в апреле 2005 г.\n",
        "\n",
        "X18-X23: сумма предыдущего платежа (в долларах США). X18 = сумма, уплаченная в сентябре 2005 года; X19 = сумма, уплаченная в августе 2005 года; , , .; X23 = сумма, уплаченная в апреле 2005 г."
      ]
    },
    {
      "cell_type": "code",
      "metadata": {
        "id": "MazkP_1JlILg",
        "colab_type": "code",
        "outputId": "e993ced2-485d-44af-8fbe-b49683290222",
        "colab": {
          "base_uri": "https://localhost:8080/",
          "height": 245
        }
      },
      "source": [
        "!pip install pandas\n",
        "!pip install numpy\n",
        "!pip install matplotlib\n",
        "import numpy as np\n",
        "import pandas as pd\n",
        "import seaborn as sns\n",
        "from matplotlib import pyplot as plt\n",
        "%matplotlib inline"
      ],
      "execution_count": 263,
      "outputs": [
        {
          "output_type": "stream",
          "text": [
            "Requirement already satisfied: pandas in /usr/local/lib/python3.6/dist-packages (0.25.3)\n",
            "Requirement already satisfied: python-dateutil>=2.6.1 in /usr/local/lib/python3.6/dist-packages (from pandas) (2.6.1)\n",
            "Requirement already satisfied: numpy>=1.13.3 in /usr/local/lib/python3.6/dist-packages (from pandas) (1.17.5)\n",
            "Requirement already satisfied: pytz>=2017.2 in /usr/local/lib/python3.6/dist-packages (from pandas) (2018.9)\n",
            "Requirement already satisfied: six>=1.5 in /usr/local/lib/python3.6/dist-packages (from python-dateutil>=2.6.1->pandas) (1.12.0)\n",
            "Requirement already satisfied: numpy in /usr/local/lib/python3.6/dist-packages (1.17.5)\n",
            "Requirement already satisfied: matplotlib in /usr/local/lib/python3.6/dist-packages (3.1.3)\n",
            "Requirement already satisfied: cycler>=0.10 in /usr/local/lib/python3.6/dist-packages (from matplotlib) (0.10.0)\n",
            "Requirement already satisfied: python-dateutil>=2.1 in /usr/local/lib/python3.6/dist-packages (from matplotlib) (2.6.1)\n",
            "Requirement already satisfied: pyparsing!=2.0.4,!=2.1.2,!=2.1.6,>=2.0.1 in /usr/local/lib/python3.6/dist-packages (from matplotlib) (2.4.6)\n",
            "Requirement already satisfied: kiwisolver>=1.0.1 in /usr/local/lib/python3.6/dist-packages (from matplotlib) (1.1.0)\n",
            "Requirement already satisfied: numpy>=1.11 in /usr/local/lib/python3.6/dist-packages (from matplotlib) (1.17.5)\n",
            "Requirement already satisfied: six in /usr/local/lib/python3.6/dist-packages (from cycler>=0.10->matplotlib) (1.12.0)\n",
            "Requirement already satisfied: setuptools in /usr/local/lib/python3.6/dist-packages (from kiwisolver>=1.0.1->matplotlib) (45.1.0)\n"
          ],
          "name": "stdout"
        }
      ]
    },
    {
      "cell_type": "code",
      "metadata": {
        "id": "kr9zTcw5jqLA",
        "colab_type": "code",
        "outputId": "14a48273-9578-4f69-99a9-d0042f8448cf",
        "colab": {
          "base_uri": "https://localhost:8080/",
          "height": 33
        }
      },
      "source": [
        "from google.colab import drive\n",
        "drive.mount('/content/drive')"
      ],
      "execution_count": 264,
      "outputs": [
        {
          "output_type": "stream",
          "text": [
            "Drive already mounted at /content/drive; to attempt to forcibly remount, call drive.mount(\"/content/drive\", force_remount=True).\n"
          ],
          "name": "stdout"
        }
      ]
    },
    {
      "cell_type": "code",
      "metadata": {
        "id": "Lsuc3miWYgPu",
        "colab_type": "code",
        "colab": {}
      },
      "source": [
        "xl = pd.ExcelFile('/content/drive/My Drive/Colab Notebooks/default of credit card clients.xls')"
      ],
      "execution_count": 0,
      "outputs": []
    },
    {
      "cell_type": "code",
      "metadata": {
        "id": "PF9nRiyKtLoi",
        "colab_type": "code",
        "colab": {}
      },
      "source": [
        "df=xl.parse(\"Data\",header=1)\n",
        "#type=int"
      ],
      "execution_count": 0,
      "outputs": []
    },
    {
      "cell_type": "markdown",
      "metadata": {
        "colab_type": "text",
        "id": "2Yfn2oxqky4X"
      },
      "source": [
        "# Общее знакомство с данными"
      ]
    },
    {
      "cell_type": "markdown",
      "metadata": {
        "id": "67oGTQYTxfw2",
        "colab_type": "text"
      },
      "source": [
        "чтобы получить общее представление о данных, выгружаем первые 5 строк датасета.  \n"
      ]
    },
    {
      "cell_type": "code",
      "metadata": {
        "id": "hogtFPinpOTb",
        "colab_type": "code",
        "outputId": "f52d083a-0197-4548-cc3c-43e6361756a0",
        "colab": {
          "base_uri": "https://localhost:8080/",
          "height": 260
        }
      },
      "source": [
        "df.head()"
      ],
      "execution_count": 267,
      "outputs": [
        {
          "output_type": "execute_result",
          "data": {
            "text/html": [
              "<div>\n",
              "<style scoped>\n",
              "    .dataframe tbody tr th:only-of-type {\n",
              "        vertical-align: middle;\n",
              "    }\n",
              "\n",
              "    .dataframe tbody tr th {\n",
              "        vertical-align: top;\n",
              "    }\n",
              "\n",
              "    .dataframe thead th {\n",
              "        text-align: right;\n",
              "    }\n",
              "</style>\n",
              "<table border=\"1\" class=\"dataframe\">\n",
              "  <thead>\n",
              "    <tr style=\"text-align: right;\">\n",
              "      <th></th>\n",
              "      <th>ID</th>\n",
              "      <th>LIMIT_BAL</th>\n",
              "      <th>SEX</th>\n",
              "      <th>EDUCATION</th>\n",
              "      <th>MARRIAGE</th>\n",
              "      <th>AGE</th>\n",
              "      <th>PAY_0</th>\n",
              "      <th>PAY_2</th>\n",
              "      <th>PAY_3</th>\n",
              "      <th>PAY_4</th>\n",
              "      <th>PAY_5</th>\n",
              "      <th>PAY_6</th>\n",
              "      <th>BILL_AMT1</th>\n",
              "      <th>BILL_AMT2</th>\n",
              "      <th>BILL_AMT3</th>\n",
              "      <th>BILL_AMT4</th>\n",
              "      <th>BILL_AMT5</th>\n",
              "      <th>BILL_AMT6</th>\n",
              "      <th>PAY_AMT1</th>\n",
              "      <th>PAY_AMT2</th>\n",
              "      <th>PAY_AMT3</th>\n",
              "      <th>PAY_AMT4</th>\n",
              "      <th>PAY_AMT5</th>\n",
              "      <th>PAY_AMT6</th>\n",
              "      <th>default payment next month</th>\n",
              "    </tr>\n",
              "  </thead>\n",
              "  <tbody>\n",
              "    <tr>\n",
              "      <th>0</th>\n",
              "      <td>1</td>\n",
              "      <td>20000</td>\n",
              "      <td>2</td>\n",
              "      <td>2</td>\n",
              "      <td>1</td>\n",
              "      <td>24</td>\n",
              "      <td>2</td>\n",
              "      <td>2</td>\n",
              "      <td>-1</td>\n",
              "      <td>-1</td>\n",
              "      <td>-2</td>\n",
              "      <td>-2</td>\n",
              "      <td>3913</td>\n",
              "      <td>3102</td>\n",
              "      <td>689</td>\n",
              "      <td>0</td>\n",
              "      <td>0</td>\n",
              "      <td>0</td>\n",
              "      <td>0</td>\n",
              "      <td>689</td>\n",
              "      <td>0</td>\n",
              "      <td>0</td>\n",
              "      <td>0</td>\n",
              "      <td>0</td>\n",
              "      <td>1</td>\n",
              "    </tr>\n",
              "    <tr>\n",
              "      <th>1</th>\n",
              "      <td>2</td>\n",
              "      <td>120000</td>\n",
              "      <td>2</td>\n",
              "      <td>2</td>\n",
              "      <td>2</td>\n",
              "      <td>26</td>\n",
              "      <td>-1</td>\n",
              "      <td>2</td>\n",
              "      <td>0</td>\n",
              "      <td>0</td>\n",
              "      <td>0</td>\n",
              "      <td>2</td>\n",
              "      <td>2682</td>\n",
              "      <td>1725</td>\n",
              "      <td>2682</td>\n",
              "      <td>3272</td>\n",
              "      <td>3455</td>\n",
              "      <td>3261</td>\n",
              "      <td>0</td>\n",
              "      <td>1000</td>\n",
              "      <td>1000</td>\n",
              "      <td>1000</td>\n",
              "      <td>0</td>\n",
              "      <td>2000</td>\n",
              "      <td>1</td>\n",
              "    </tr>\n",
              "    <tr>\n",
              "      <th>2</th>\n",
              "      <td>3</td>\n",
              "      <td>90000</td>\n",
              "      <td>2</td>\n",
              "      <td>2</td>\n",
              "      <td>2</td>\n",
              "      <td>34</td>\n",
              "      <td>0</td>\n",
              "      <td>0</td>\n",
              "      <td>0</td>\n",
              "      <td>0</td>\n",
              "      <td>0</td>\n",
              "      <td>0</td>\n",
              "      <td>29239</td>\n",
              "      <td>14027</td>\n",
              "      <td>13559</td>\n",
              "      <td>14331</td>\n",
              "      <td>14948</td>\n",
              "      <td>15549</td>\n",
              "      <td>1518</td>\n",
              "      <td>1500</td>\n",
              "      <td>1000</td>\n",
              "      <td>1000</td>\n",
              "      <td>1000</td>\n",
              "      <td>5000</td>\n",
              "      <td>0</td>\n",
              "    </tr>\n",
              "    <tr>\n",
              "      <th>3</th>\n",
              "      <td>4</td>\n",
              "      <td>50000</td>\n",
              "      <td>2</td>\n",
              "      <td>2</td>\n",
              "      <td>1</td>\n",
              "      <td>37</td>\n",
              "      <td>0</td>\n",
              "      <td>0</td>\n",
              "      <td>0</td>\n",
              "      <td>0</td>\n",
              "      <td>0</td>\n",
              "      <td>0</td>\n",
              "      <td>46990</td>\n",
              "      <td>48233</td>\n",
              "      <td>49291</td>\n",
              "      <td>28314</td>\n",
              "      <td>28959</td>\n",
              "      <td>29547</td>\n",
              "      <td>2000</td>\n",
              "      <td>2019</td>\n",
              "      <td>1200</td>\n",
              "      <td>1100</td>\n",
              "      <td>1069</td>\n",
              "      <td>1000</td>\n",
              "      <td>0</td>\n",
              "    </tr>\n",
              "    <tr>\n",
              "      <th>4</th>\n",
              "      <td>5</td>\n",
              "      <td>50000</td>\n",
              "      <td>1</td>\n",
              "      <td>2</td>\n",
              "      <td>1</td>\n",
              "      <td>57</td>\n",
              "      <td>-1</td>\n",
              "      <td>0</td>\n",
              "      <td>-1</td>\n",
              "      <td>0</td>\n",
              "      <td>0</td>\n",
              "      <td>0</td>\n",
              "      <td>8617</td>\n",
              "      <td>5670</td>\n",
              "      <td>35835</td>\n",
              "      <td>20940</td>\n",
              "      <td>19146</td>\n",
              "      <td>19131</td>\n",
              "      <td>2000</td>\n",
              "      <td>36681</td>\n",
              "      <td>10000</td>\n",
              "      <td>9000</td>\n",
              "      <td>689</td>\n",
              "      <td>679</td>\n",
              "      <td>0</td>\n",
              "    </tr>\n",
              "  </tbody>\n",
              "</table>\n",
              "</div>"
            ],
            "text/plain": [
              "   ID  LIMIT_BAL  SEX  ...  PAY_AMT5  PAY_AMT6  default payment next month\n",
              "0   1      20000    2  ...         0         0                           1\n",
              "1   2     120000    2  ...         0      2000                           1\n",
              "2   3      90000    2  ...      1000      5000                           0\n",
              "3   4      50000    2  ...      1069      1000                           0\n",
              "4   5      50000    1  ...       689       679                           0\n",
              "\n",
              "[5 rows x 25 columns]"
            ]
          },
          "metadata": {
            "tags": []
          },
          "execution_count": 267
        }
      ]
    },
    {
      "cell_type": "code",
      "metadata": {
        "id": "oWbzHDm088mm",
        "colab_type": "code",
        "outputId": "ba3f8d1d-ed1a-4863-cd64-91e9c580b083",
        "colab": {
          "base_uri": "https://localhost:8080/",
          "height": 440
        }
      },
      "source": [
        "df.nunique()"
      ],
      "execution_count": 268,
      "outputs": [
        {
          "output_type": "execute_result",
          "data": {
            "text/plain": [
              "ID                            30000\n",
              "LIMIT_BAL                        81\n",
              "SEX                               2\n",
              "EDUCATION                         7\n",
              "MARRIAGE                          4\n",
              "AGE                              56\n",
              "PAY_0                            11\n",
              "PAY_2                            11\n",
              "PAY_3                            11\n",
              "PAY_4                            11\n",
              "PAY_5                            10\n",
              "PAY_6                            10\n",
              "BILL_AMT1                     22723\n",
              "BILL_AMT2                     22346\n",
              "BILL_AMT3                     22026\n",
              "BILL_AMT4                     21548\n",
              "BILL_AMT5                     21010\n",
              "BILL_AMT6                     20604\n",
              "PAY_AMT1                       7943\n",
              "PAY_AMT2                       7899\n",
              "PAY_AMT3                       7518\n",
              "PAY_AMT4                       6937\n",
              "PAY_AMT5                       6897\n",
              "PAY_AMT6                       6939\n",
              "default payment next month        2\n",
              "dtype: int64"
            ]
          },
          "metadata": {
            "tags": []
          },
          "execution_count": 268
        }
      ]
    },
    {
      "cell_type": "markdown",
      "metadata": {
        "id": "93p7emJe03Lu",
        "colab_type": "text"
      },
      "source": [
        "Столбец ID содержит уникальные значения и не нужен для дальнейшего анализа, столбец Education содержащит 7 уникальных значений, хотя должен содержать 4\n",
        "столбец Marriage содержит 4 уникальных значения, хотя должен 3"
      ]
    },
    {
      "cell_type": "code",
      "metadata": {
        "id": "j9e2jjhNm22l",
        "colab_type": "code",
        "colab": {}
      },
      "source": [
        "df=df.drop(['ID'],axis=1)"
      ],
      "execution_count": 0,
      "outputs": []
    },
    {
      "cell_type": "markdown",
      "metadata": {
        "id": "xnoCOxvB1lmB",
        "colab_type": "text"
      },
      "source": [
        "Посмотрим есть ли в данных пропущенные значения Nan"
      ]
    },
    {
      "cell_type": "code",
      "metadata": {
        "id": "QBtzBDrljK5m",
        "colab_type": "code",
        "outputId": "a9433ebc-88a9-47dd-8ca7-8b864ff95272",
        "colab": {
          "base_uri": "https://localhost:8080/",
          "height": 488
        }
      },
      "source": [
        "df.info()"
      ],
      "execution_count": 270,
      "outputs": [
        {
          "output_type": "stream",
          "text": [
            "<class 'pandas.core.frame.DataFrame'>\n",
            "RangeIndex: 30000 entries, 0 to 29999\n",
            "Data columns (total 24 columns):\n",
            "LIMIT_BAL                     30000 non-null int64\n",
            "SEX                           30000 non-null int64\n",
            "EDUCATION                     30000 non-null int64\n",
            "MARRIAGE                      30000 non-null int64\n",
            "AGE                           30000 non-null int64\n",
            "PAY_0                         30000 non-null int64\n",
            "PAY_2                         30000 non-null int64\n",
            "PAY_3                         30000 non-null int64\n",
            "PAY_4                         30000 non-null int64\n",
            "PAY_5                         30000 non-null int64\n",
            "PAY_6                         30000 non-null int64\n",
            "BILL_AMT1                     30000 non-null int64\n",
            "BILL_AMT2                     30000 non-null int64\n",
            "BILL_AMT3                     30000 non-null int64\n",
            "BILL_AMT4                     30000 non-null int64\n",
            "BILL_AMT5                     30000 non-null int64\n",
            "BILL_AMT6                     30000 non-null int64\n",
            "PAY_AMT1                      30000 non-null int64\n",
            "PAY_AMT2                      30000 non-null int64\n",
            "PAY_AMT3                      30000 non-null int64\n",
            "PAY_AMT4                      30000 non-null int64\n",
            "PAY_AMT5                      30000 non-null int64\n",
            "PAY_AMT6                      30000 non-null int64\n",
            "default payment next month    30000 non-null int64\n",
            "dtypes: int64(24)\n",
            "memory usage: 5.5 MB\n"
          ],
          "name": "stdout"
        }
      ]
    },
    {
      "cell_type": "code",
      "metadata": {
        "id": "8-fL2-tSuNYX",
        "colab_type": "code",
        "colab": {}
      },
      "source": [
        "#Добавим в данные столбец с средним за 6 месяцев платежом и остатком\n",
        "df['mean_BILL']=(df['BILL_AMT1']+df['BILL_AMT1']+df['BILL_AMT1']+df['BILL_AMT1']+df['BILL_AMT1']+df['BILL_AMT1'])/6\n",
        "df['mean_PAY']=(df['PAY_AMT1']+df['PAY_AMT2']+df['PAY_AMT3']+df['PAY_AMT4']+df['PAY_AMT5']+df['PAY_AMT6'])/6"
      ],
      "execution_count": 0,
      "outputs": []
    },
    {
      "cell_type": "markdown",
      "metadata": {
        "id": "8By5JmRA1_f1",
        "colab_type": "text"
      },
      "source": [
        "Общая стат-ая информация о данных"
      ]
    },
    {
      "cell_type": "code",
      "metadata": {
        "id": "aNiq2mZQlX5F",
        "colab_type": "code",
        "outputId": "e66d5545-7d83-4f89-e77d-2084db728c19",
        "colab": {
          "base_uri": "https://localhost:8080/",
          "height": 330
        }
      },
      "source": [
        "df.describe()"
      ],
      "execution_count": 275,
      "outputs": [
        {
          "output_type": "execute_result",
          "data": {
            "text/html": [
              "<div>\n",
              "<style scoped>\n",
              "    .dataframe tbody tr th:only-of-type {\n",
              "        vertical-align: middle;\n",
              "    }\n",
              "\n",
              "    .dataframe tbody tr th {\n",
              "        vertical-align: top;\n",
              "    }\n",
              "\n",
              "    .dataframe thead th {\n",
              "        text-align: right;\n",
              "    }\n",
              "</style>\n",
              "<table border=\"1\" class=\"dataframe\">\n",
              "  <thead>\n",
              "    <tr style=\"text-align: right;\">\n",
              "      <th></th>\n",
              "      <th>LIMIT_BAL</th>\n",
              "      <th>SEX</th>\n",
              "      <th>EDUCATION</th>\n",
              "      <th>MARRIAGE</th>\n",
              "      <th>AGE</th>\n",
              "      <th>PAY_0</th>\n",
              "      <th>PAY_2</th>\n",
              "      <th>PAY_3</th>\n",
              "      <th>PAY_4</th>\n",
              "      <th>PAY_5</th>\n",
              "      <th>PAY_6</th>\n",
              "      <th>BILL_AMT1</th>\n",
              "      <th>BILL_AMT2</th>\n",
              "      <th>BILL_AMT3</th>\n",
              "      <th>BILL_AMT4</th>\n",
              "      <th>BILL_AMT5</th>\n",
              "      <th>BILL_AMT6</th>\n",
              "      <th>PAY_AMT1</th>\n",
              "      <th>PAY_AMT2</th>\n",
              "      <th>PAY_AMT3</th>\n",
              "      <th>PAY_AMT4</th>\n",
              "      <th>PAY_AMT5</th>\n",
              "      <th>PAY_AMT6</th>\n",
              "      <th>default payment next month</th>\n",
              "      <th>mean_BILL</th>\n",
              "      <th>mean_PAY</th>\n",
              "    </tr>\n",
              "  </thead>\n",
              "  <tbody>\n",
              "    <tr>\n",
              "      <th>count</th>\n",
              "      <td>30000.000000</td>\n",
              "      <td>30000.000000</td>\n",
              "      <td>30000.000000</td>\n",
              "      <td>30000.000000</td>\n",
              "      <td>30000.000000</td>\n",
              "      <td>30000.000000</td>\n",
              "      <td>30000.000000</td>\n",
              "      <td>30000.000000</td>\n",
              "      <td>30000.000000</td>\n",
              "      <td>30000.000000</td>\n",
              "      <td>30000.000000</td>\n",
              "      <td>30000.000000</td>\n",
              "      <td>30000.000000</td>\n",
              "      <td>3.000000e+04</td>\n",
              "      <td>30000.000000</td>\n",
              "      <td>30000.000000</td>\n",
              "      <td>30000.000000</td>\n",
              "      <td>30000.000000</td>\n",
              "      <td>3.000000e+04</td>\n",
              "      <td>30000.00000</td>\n",
              "      <td>30000.000000</td>\n",
              "      <td>30000.000000</td>\n",
              "      <td>30000.000000</td>\n",
              "      <td>30000.000000</td>\n",
              "      <td>30000.000000</td>\n",
              "      <td>30000.000000</td>\n",
              "    </tr>\n",
              "    <tr>\n",
              "      <th>mean</th>\n",
              "      <td>167484.322667</td>\n",
              "      <td>1.603733</td>\n",
              "      <td>1.853133</td>\n",
              "      <td>1.551867</td>\n",
              "      <td>35.485500</td>\n",
              "      <td>-0.016700</td>\n",
              "      <td>-0.133767</td>\n",
              "      <td>-0.166200</td>\n",
              "      <td>-0.220667</td>\n",
              "      <td>-0.266200</td>\n",
              "      <td>-0.291100</td>\n",
              "      <td>51223.330900</td>\n",
              "      <td>49179.075167</td>\n",
              "      <td>4.701315e+04</td>\n",
              "      <td>43262.948967</td>\n",
              "      <td>40311.400967</td>\n",
              "      <td>38871.760400</td>\n",
              "      <td>5663.580500</td>\n",
              "      <td>5.921163e+03</td>\n",
              "      <td>5225.68150</td>\n",
              "      <td>4826.076867</td>\n",
              "      <td>4799.387633</td>\n",
              "      <td>5215.502567</td>\n",
              "      <td>0.221200</td>\n",
              "      <td>51223.330900</td>\n",
              "      <td>5275.232094</td>\n",
              "    </tr>\n",
              "    <tr>\n",
              "      <th>std</th>\n",
              "      <td>129747.661567</td>\n",
              "      <td>0.489129</td>\n",
              "      <td>0.790349</td>\n",
              "      <td>0.521970</td>\n",
              "      <td>9.217904</td>\n",
              "      <td>1.123802</td>\n",
              "      <td>1.197186</td>\n",
              "      <td>1.196868</td>\n",
              "      <td>1.169139</td>\n",
              "      <td>1.133187</td>\n",
              "      <td>1.149988</td>\n",
              "      <td>73635.860576</td>\n",
              "      <td>71173.768783</td>\n",
              "      <td>6.934939e+04</td>\n",
              "      <td>64332.856134</td>\n",
              "      <td>60797.155770</td>\n",
              "      <td>59554.107537</td>\n",
              "      <td>16563.280354</td>\n",
              "      <td>2.304087e+04</td>\n",
              "      <td>17606.96147</td>\n",
              "      <td>15666.159744</td>\n",
              "      <td>15278.305679</td>\n",
              "      <td>17777.465775</td>\n",
              "      <td>0.415062</td>\n",
              "      <td>73635.860576</td>\n",
              "      <td>10137.946323</td>\n",
              "    </tr>\n",
              "    <tr>\n",
              "      <th>min</th>\n",
              "      <td>10000.000000</td>\n",
              "      <td>1.000000</td>\n",
              "      <td>0.000000</td>\n",
              "      <td>0.000000</td>\n",
              "      <td>21.000000</td>\n",
              "      <td>-2.000000</td>\n",
              "      <td>-2.000000</td>\n",
              "      <td>-2.000000</td>\n",
              "      <td>-2.000000</td>\n",
              "      <td>-2.000000</td>\n",
              "      <td>-2.000000</td>\n",
              "      <td>-165580.000000</td>\n",
              "      <td>-69777.000000</td>\n",
              "      <td>-1.572640e+05</td>\n",
              "      <td>-170000.000000</td>\n",
              "      <td>-81334.000000</td>\n",
              "      <td>-339603.000000</td>\n",
              "      <td>0.000000</td>\n",
              "      <td>0.000000e+00</td>\n",
              "      <td>0.00000</td>\n",
              "      <td>0.000000</td>\n",
              "      <td>0.000000</td>\n",
              "      <td>0.000000</td>\n",
              "      <td>0.000000</td>\n",
              "      <td>-165580.000000</td>\n",
              "      <td>0.000000</td>\n",
              "    </tr>\n",
              "    <tr>\n",
              "      <th>25%</th>\n",
              "      <td>50000.000000</td>\n",
              "      <td>1.000000</td>\n",
              "      <td>1.000000</td>\n",
              "      <td>1.000000</td>\n",
              "      <td>28.000000</td>\n",
              "      <td>-1.000000</td>\n",
              "      <td>-1.000000</td>\n",
              "      <td>-1.000000</td>\n",
              "      <td>-1.000000</td>\n",
              "      <td>-1.000000</td>\n",
              "      <td>-1.000000</td>\n",
              "      <td>3558.750000</td>\n",
              "      <td>2984.750000</td>\n",
              "      <td>2.666250e+03</td>\n",
              "      <td>2326.750000</td>\n",
              "      <td>1763.000000</td>\n",
              "      <td>1256.000000</td>\n",
              "      <td>1000.000000</td>\n",
              "      <td>8.330000e+02</td>\n",
              "      <td>390.00000</td>\n",
              "      <td>296.000000</td>\n",
              "      <td>252.500000</td>\n",
              "      <td>117.750000</td>\n",
              "      <td>0.000000</td>\n",
              "      <td>3558.750000</td>\n",
              "      <td>1113.291667</td>\n",
              "    </tr>\n",
              "    <tr>\n",
              "      <th>50%</th>\n",
              "      <td>140000.000000</td>\n",
              "      <td>2.000000</td>\n",
              "      <td>2.000000</td>\n",
              "      <td>2.000000</td>\n",
              "      <td>34.000000</td>\n",
              "      <td>0.000000</td>\n",
              "      <td>0.000000</td>\n",
              "      <td>0.000000</td>\n",
              "      <td>0.000000</td>\n",
              "      <td>0.000000</td>\n",
              "      <td>0.000000</td>\n",
              "      <td>22381.500000</td>\n",
              "      <td>21200.000000</td>\n",
              "      <td>2.008850e+04</td>\n",
              "      <td>19052.000000</td>\n",
              "      <td>18104.500000</td>\n",
              "      <td>17071.000000</td>\n",
              "      <td>2100.000000</td>\n",
              "      <td>2.009000e+03</td>\n",
              "      <td>1800.00000</td>\n",
              "      <td>1500.000000</td>\n",
              "      <td>1500.000000</td>\n",
              "      <td>1500.000000</td>\n",
              "      <td>0.000000</td>\n",
              "      <td>22381.500000</td>\n",
              "      <td>2397.166667</td>\n",
              "    </tr>\n",
              "    <tr>\n",
              "      <th>75%</th>\n",
              "      <td>240000.000000</td>\n",
              "      <td>2.000000</td>\n",
              "      <td>2.000000</td>\n",
              "      <td>2.000000</td>\n",
              "      <td>41.000000</td>\n",
              "      <td>0.000000</td>\n",
              "      <td>0.000000</td>\n",
              "      <td>0.000000</td>\n",
              "      <td>0.000000</td>\n",
              "      <td>0.000000</td>\n",
              "      <td>0.000000</td>\n",
              "      <td>67091.000000</td>\n",
              "      <td>64006.250000</td>\n",
              "      <td>6.016475e+04</td>\n",
              "      <td>54506.000000</td>\n",
              "      <td>50190.500000</td>\n",
              "      <td>49198.250000</td>\n",
              "      <td>5006.000000</td>\n",
              "      <td>5.000000e+03</td>\n",
              "      <td>4505.00000</td>\n",
              "      <td>4013.250000</td>\n",
              "      <td>4031.500000</td>\n",
              "      <td>4000.000000</td>\n",
              "      <td>0.000000</td>\n",
              "      <td>67091.000000</td>\n",
              "      <td>5583.916667</td>\n",
              "    </tr>\n",
              "    <tr>\n",
              "      <th>max</th>\n",
              "      <td>1000000.000000</td>\n",
              "      <td>2.000000</td>\n",
              "      <td>6.000000</td>\n",
              "      <td>3.000000</td>\n",
              "      <td>79.000000</td>\n",
              "      <td>8.000000</td>\n",
              "      <td>8.000000</td>\n",
              "      <td>8.000000</td>\n",
              "      <td>8.000000</td>\n",
              "      <td>8.000000</td>\n",
              "      <td>8.000000</td>\n",
              "      <td>964511.000000</td>\n",
              "      <td>983931.000000</td>\n",
              "      <td>1.664089e+06</td>\n",
              "      <td>891586.000000</td>\n",
              "      <td>927171.000000</td>\n",
              "      <td>961664.000000</td>\n",
              "      <td>873552.000000</td>\n",
              "      <td>1.684259e+06</td>\n",
              "      <td>896040.00000</td>\n",
              "      <td>621000.000000</td>\n",
              "      <td>426529.000000</td>\n",
              "      <td>528666.000000</td>\n",
              "      <td>1.000000</td>\n",
              "      <td>964511.000000</td>\n",
              "      <td>627344.333333</td>\n",
              "    </tr>\n",
              "  </tbody>\n",
              "</table>\n",
              "</div>"
            ],
            "text/plain": [
              "            LIMIT_BAL           SEX  ...      mean_BILL       mean_PAY\n",
              "count    30000.000000  30000.000000  ...   30000.000000   30000.000000\n",
              "mean    167484.322667      1.603733  ...   51223.330900    5275.232094\n",
              "std     129747.661567      0.489129  ...   73635.860576   10137.946323\n",
              "min      10000.000000      1.000000  ... -165580.000000       0.000000\n",
              "25%      50000.000000      1.000000  ...    3558.750000    1113.291667\n",
              "50%     140000.000000      2.000000  ...   22381.500000    2397.166667\n",
              "75%     240000.000000      2.000000  ...   67091.000000    5583.916667\n",
              "max    1000000.000000      2.000000  ...  964511.000000  627344.333333\n",
              "\n",
              "[8 rows x 26 columns]"
            ]
          },
          "metadata": {
            "tags": []
          },
          "execution_count": 275
        }
      ]
    },
    {
      "cell_type": "markdown",
      "metadata": {
        "colab_type": "text",
        "id": "Fi4HAiIiuHFa"
      },
      "source": [
        "# Ошибочные данные, выбросы"
      ]
    },
    {
      "cell_type": "markdown",
      "metadata": {
        "id": "icv6jNIzqrh2",
        "colab_type": "text"
      },
      "source": [
        "Если посмотреть на таблицу выше,то можно заметить некоторые аномалии. В частности столбец \"EDUCATION\" имеет минимум и максимум 0 и 6, а в описании к данным указано, что значения в столбце принимают от 1 до 4-х. В столбце \"MARRIAGE\" значения могут принимать от 1 до 3, но минимум в столбце 0.\n",
        "В столбцах PAY_0-PAY_6 значения от \"-2\" до \"8\" в описании от -1 до 9.\n",
        "Кроме того в столбцах выписки по счету и платеже очень сильно отличаются среднее значение и медиана, что указывает на выбросы этих данных\n",
        "Рассмотрим на графиках как рапределяются эти переменные "
      ]
    },
    {
      "cell_type": "code",
      "metadata": {
        "id": "c4lVOHzQDeE3",
        "colab_type": "code",
        "outputId": "fa42d04a-eefe-43d7-fe42-dce8f3789f3f",
        "colab": {
          "base_uri": "https://localhost:8080/",
          "height": 292
        }
      },
      "source": [
        "df.groupby(['EDUCATION'])['EDUCATION'].count().plot.bar()"
      ],
      "execution_count": 276,
      "outputs": [
        {
          "output_type": "execute_result",
          "data": {
            "text/plain": [
              "<matplotlib.axes._subplots.AxesSubplot at 0x7f5a3dc60518>"
            ]
          },
          "metadata": {
            "tags": []
          },
          "execution_count": 276
        },
        {
          "output_type": "display_data",
          "data": {
            "image/png": "[encoded data removed]",
            "text/plain": [
              "<Figure size 432x288 with 1 Axes>"
            ]
          },
          "metadata": {
            "tags": []
          }
        }
      ]
    },
    {
      "cell_type": "code",
      "metadata": {
        "id": "fof7mlPxGo7d",
        "colab_type": "code",
        "outputId": "3b413cc2-0ab1-41c8-d271-c74ffd2d81a6",
        "colab": {
          "base_uri": "https://localhost:8080/",
          "height": 292
        }
      },
      "source": [
        "df.groupby(['MARRIAGE'])['MARRIAGE'].count().plot.bar()"
      ],
      "execution_count": 277,
      "outputs": [
        {
          "output_type": "execute_result",
          "data": {
            "text/plain": [
              "<matplotlib.axes._subplots.AxesSubplot at 0x7f5a30bf24a8>"
            ]
          },
          "metadata": {
            "tags": []
          },
          "execution_count": 277
        },
        {
          "output_type": "display_data",
          "data": {
            "image/png": "[encoded data removed]",
            "text/plain": [
              "<Figure size 432x288 with 1 Axes>"
            ]
          },
          "metadata": {
            "tags": []
          }
        }
      ]
    },
    {
      "cell_type": "markdown",
      "metadata": {
        "id": "Ij0saDDyt8YQ",
        "colab_type": "text"
      },
      "source": [
        "Из указанных графиков видно, что значений, которые не удовлетворяют условиям относительно немного, скорее всего эти данные ошибочны. Два пути либо исключаем значения из выборки, либо заменяем на удовлетворяющее условиям значение класса, в частности и там и там есть значение, означающее \"другое\".\n",
        "В обоих случаях есть минусы в первом случае теряется часть данных. Во втором случае будет некоторое искажение, так как полной уверенности в допущении нет.\n",
        "В данном случае воспользуемся 2-м способом\n",
        "\n",
        "\n",
        "\n",
        "\n"
      ]
    },
    {
      "cell_type": "code",
      "metadata": {
        "id": "wrQUVuyRjRPx",
        "colab_type": "code",
        "colab": {}
      },
      "source": [
        "#df=df[(df.EDUCATION!=6)&(df.EDUCATION!=5)&(df.EDUCATION!=0)&(df.MARRIAGE!=0)]\n",
        "df.loc[df['EDUCATION']==5,'EDUCATION']=4\n",
        "df.loc[df['EDUCATION']==6,'EDUCATION']=4\n",
        "df.loc[df['EDUCATION']==0,'EDUCATION']=4\n",
        "df.loc[df['MARRIAGE']==0,'MARRIAGE']=3\n",
        "#or df['EDUCATION']==6 or df['EDUCATION']==0"
      ],
      "execution_count": 0,
      "outputs": []
    },
    {
      "cell_type": "markdown",
      "metadata": {
        "id": "3_6qHOr8tvse",
        "colab_type": "text"
      },
      "source": [
        "Построим графики \"ящик с усами\" для столбцов mean_BILL, mean_PAYчтобы определить действительно ли есть выбросы"
      ]
    },
    {
      "cell_type": "code",
      "metadata": {
        "colab_type": "code",
        "outputId": "4a6c9613-a70f-48ca-8e11-c847e89d0b17",
        "id": "O8dnhAdp8y8k",
        "colab": {
          "base_uri": "https://localhost:8080/",
          "height": 296
        }
      },
      "source": [
        "sns.boxplot(df['mean_BILL'])"
      ],
      "execution_count": 279,
      "outputs": [
        {
          "output_type": "execute_result",
          "data": {
            "text/plain": [
              "<matplotlib.axes._subplots.AxesSubplot at 0x7f5a32d9c780>"
            ]
          },
          "metadata": {
            "tags": []
          },
          "execution_count": 279
        },
        {
          "output_type": "display_data",
          "data": {
            "image/png": "[encoded data removed]",
            "text/plain": [
              "<Figure size 432x288 with 1 Axes>"
            ]
          },
          "metadata": {
            "tags": []
          }
        }
      ]
    },
    {
      "cell_type": "code",
      "metadata": {
        "id": "oMy--yy5dI1X",
        "colab_type": "code",
        "colab": {
          "base_uri": "https://localhost:8080/",
          "height": 296
        },
        "outputId": "3360d536-3c46-465e-a255-ae47c8121fae"
      },
      "source": [
        "sns.boxplot(df['mean_PAY'])"
      ],
      "execution_count": 280,
      "outputs": [
        {
          "output_type": "execute_result",
          "data": {
            "text/plain": [
              "<matplotlib.axes._subplots.AxesSubplot at 0x7f5a30f8c2e8>"
            ]
          },
          "metadata": {
            "tags": []
          },
          "execution_count": 280
        },
        {
          "output_type": "display_data",
          "data": {
            "image/png": "[encoded data removed]",
            "text/plain": [
              "<Figure size 432x288 with 1 Axes>"
            ]
          },
          "metadata": {
            "tags": []
          }
        }
      ]
    },
    {
      "cell_type": "markdown",
      "metadata": {
        "id": "aKAg9zxVsRYC",
        "colab_type": "text"
      },
      "source": [
        "По графику видно, что выбросы есть, особенно это выражено на графике среднего платежа, поробуем удалить из выборки выбросы через IQR"
      ]
    },
    {
      "cell_type": "code",
      "metadata": {
        "id": "0ZZKGzXxpTKo",
        "colab_type": "code",
        "colab": {}
      },
      "source": [
        "Q1=df['mean_PAY'].quantile(0.25)\n",
        "Q3=df['mean_PAY'].quantile(0.75)\n",
        "IQR= Q3-Q1\n",
        "Min=Q1-1.5*IQR\n",
        "Max=Q3+1.5*IQR\n",
        "df1=df[(df['mean_PAY']>Min)&(df['mean_PAY']<Max)]"
      ],
      "execution_count": 0,
      "outputs": []
    },
    {
      "cell_type": "code",
      "metadata": {
        "id": "RqpiCqCZtt9S",
        "colab_type": "code",
        "colab": {}
      },
      "source": [
        "Q1=df['mean_BILL'].quantile(0.25)\n",
        "Q3=df['mean_BILL'].quantile(0.75)\n",
        "IQR= Q3-Q1\n",
        "Min=Q1-1.5*IQR\n",
        "Max=Q3+1.5*IQR\n",
        "df1=df1[(df1['mean_BILL']>Min)&(df1['mean_BILL']<Max)]"
      ],
      "execution_count": 0,
      "outputs": []
    },
    {
      "cell_type": "code",
      "metadata": {
        "id": "mPwXFC7cpkFe",
        "colab_type": "code",
        "colab": {
          "base_uri": "https://localhost:8080/",
          "height": 296
        },
        "outputId": "e410b49d-e85a-45ee-800d-0b6bc3a05b59"
      },
      "source": [
        "sns.boxplot(df1['mean_PAY'])"
      ],
      "execution_count": 283,
      "outputs": [
        {
          "output_type": "execute_result",
          "data": {
            "text/plain": [
              "<matplotlib.axes._subplots.AxesSubplot at 0x7f5a31a24828>"
            ]
          },
          "metadata": {
            "tags": []
          },
          "execution_count": 283
        },
        {
          "output_type": "display_data",
          "data": {
            "image/png": "[encoded data removed]",
            "text/plain": [
              "<Figure size 432x288 with 1 Axes>"
            ]
          },
          "metadata": {
            "tags": []
          }
        }
      ]
    },
    {
      "cell_type": "code",
      "metadata": {
        "id": "IUYftxc0tPev",
        "colab_type": "code",
        "colab": {
          "base_uri": "https://localhost:8080/",
          "height": 296
        },
        "outputId": "a61d88a6-dab7-49ed-dc5a-9e9c194ef51f"
      },
      "source": [
        "sns.boxplot(df1['mean_BILL'])"
      ],
      "execution_count": 284,
      "outputs": [
        {
          "output_type": "execute_result",
          "data": {
            "text/plain": [
              "<matplotlib.axes._subplots.AxesSubplot at 0x7f5a340e5780>"
            ]
          },
          "metadata": {
            "tags": []
          },
          "execution_count": 284
        },
        {
          "output_type": "display_data",
          "data": {
            "image/png": "[encoded data removed]",
            "text/plain": [
              "<Figure size 432x288 with 1 Axes>"
            ]
          },
          "metadata": {
            "tags": []
          }
        }
      ]
    },
    {
      "cell_type": "code",
      "metadata": {
        "id": "Q9KA-zXMBNVq",
        "colab_type": "code",
        "colab": {
          "base_uri": "https://localhost:8080/",
          "height": 330
        },
        "outputId": "23066cf2-fcb4-489a-c5f5-b08e27b3c582"
      },
      "source": [
        "df1.describe()"
      ],
      "execution_count": 285,
      "outputs": [
        {
          "output_type": "execute_result",
          "data": {
            "text/html": [
              "<div>\n",
              "<style scoped>\n",
              "    .dataframe tbody tr th:only-of-type {\n",
              "        vertical-align: middle;\n",
              "    }\n",
              "\n",
              "    .dataframe tbody tr th {\n",
              "        vertical-align: top;\n",
              "    }\n",
              "\n",
              "    .dataframe thead th {\n",
              "        text-align: right;\n",
              "    }\n",
              "</style>\n",
              "<table border=\"1\" class=\"dataframe\">\n",
              "  <thead>\n",
              "    <tr style=\"text-align: right;\">\n",
              "      <th></th>\n",
              "      <th>LIMIT_BAL</th>\n",
              "      <th>SEX</th>\n",
              "      <th>EDUCATION</th>\n",
              "      <th>MARRIAGE</th>\n",
              "      <th>AGE</th>\n",
              "      <th>PAY_0</th>\n",
              "      <th>PAY_2</th>\n",
              "      <th>PAY_3</th>\n",
              "      <th>PAY_4</th>\n",
              "      <th>PAY_5</th>\n",
              "      <th>PAY_6</th>\n",
              "      <th>BILL_AMT1</th>\n",
              "      <th>BILL_AMT2</th>\n",
              "      <th>BILL_AMT3</th>\n",
              "      <th>BILL_AMT4</th>\n",
              "      <th>BILL_AMT5</th>\n",
              "      <th>BILL_AMT6</th>\n",
              "      <th>PAY_AMT1</th>\n",
              "      <th>PAY_AMT2</th>\n",
              "      <th>PAY_AMT3</th>\n",
              "      <th>PAY_AMT4</th>\n",
              "      <th>PAY_AMT5</th>\n",
              "      <th>PAY_AMT6</th>\n",
              "      <th>default payment next month</th>\n",
              "      <th>mean_BILL</th>\n",
              "      <th>mean_PAY</th>\n",
              "    </tr>\n",
              "  </thead>\n",
              "  <tbody>\n",
              "    <tr>\n",
              "      <th>count</th>\n",
              "      <td>25318.000000</td>\n",
              "      <td>25318.000000</td>\n",
              "      <td>25318.000000</td>\n",
              "      <td>25318.000000</td>\n",
              "      <td>25318.000000</td>\n",
              "      <td>25318.000000</td>\n",
              "      <td>25318.000000</td>\n",
              "      <td>25318.000000</td>\n",
              "      <td>25318.000000</td>\n",
              "      <td>25318.000000</td>\n",
              "      <td>25318.000000</td>\n",
              "      <td>25318.000000</td>\n",
              "      <td>25318.000000</td>\n",
              "      <td>25318.000000</td>\n",
              "      <td>25318.000000</td>\n",
              "      <td>25318.000000</td>\n",
              "      <td>25318.000000</td>\n",
              "      <td>25318.000000</td>\n",
              "      <td>25318.000000</td>\n",
              "      <td>25318.000000</td>\n",
              "      <td>25318.000000</td>\n",
              "      <td>25318.000000</td>\n",
              "      <td>25318.000000</td>\n",
              "      <td>25318.000000</td>\n",
              "      <td>25318.000000</td>\n",
              "      <td>25318.000000</td>\n",
              "    </tr>\n",
              "    <tr>\n",
              "      <th>mean</th>\n",
              "      <td>144338.099376</td>\n",
              "      <td>1.608184</td>\n",
              "      <td>1.861245</td>\n",
              "      <td>1.564579</td>\n",
              "      <td>35.247413</td>\n",
              "      <td>0.007702</td>\n",
              "      <td>-0.120231</td>\n",
              "      <td>-0.154159</td>\n",
              "      <td>-0.215064</td>\n",
              "      <td>-0.266846</td>\n",
              "      <td>-0.297259</td>\n",
              "      <td>33655.081286</td>\n",
              "      <td>32129.656805</td>\n",
              "      <td>30379.985978</td>\n",
              "      <td>27927.105617</td>\n",
              "      <td>25985.985346</td>\n",
              "      <td>25076.502844</td>\n",
              "      <td>3114.320444</td>\n",
              "      <td>3036.540998</td>\n",
              "      <td>2738.580299</td>\n",
              "      <td>2534.306936</td>\n",
              "      <td>2503.137531</td>\n",
              "      <td>2454.423454</td>\n",
              "      <td>0.236117</td>\n",
              "      <td>33655.081286</td>\n",
              "      <td>2730.218277</td>\n",
              "    </tr>\n",
              "    <tr>\n",
              "      <th>std</th>\n",
              "      <td>116613.972470</td>\n",
              "      <td>0.488166</td>\n",
              "      <td>0.738663</td>\n",
              "      <td>0.522433</td>\n",
              "      <td>9.319235</td>\n",
              "      <td>1.142345</td>\n",
              "      <td>1.232725</td>\n",
              "      <td>1.241972</td>\n",
              "      <td>1.221103</td>\n",
              "      <td>1.185474</td>\n",
              "      <td>1.203391</td>\n",
              "      <td>38917.700411</td>\n",
              "      <td>38062.392073</td>\n",
              "      <td>36817.292411</td>\n",
              "      <td>34877.035362</td>\n",
              "      <td>33593.137218</td>\n",
              "      <td>33373.232075</td>\n",
              "      <td>4768.569195</td>\n",
              "      <td>4857.783073</td>\n",
              "      <td>4900.121729</td>\n",
              "      <td>4931.802285</td>\n",
              "      <td>4723.636988</td>\n",
              "      <td>4779.877548</td>\n",
              "      <td>0.424703</td>\n",
              "      <td>38917.700411</td>\n",
              "      <td>2539.866616</td>\n",
              "    </tr>\n",
              "    <tr>\n",
              "      <th>min</th>\n",
              "      <td>10000.000000</td>\n",
              "      <td>1.000000</td>\n",
              "      <td>1.000000</td>\n",
              "      <td>1.000000</td>\n",
              "      <td>21.000000</td>\n",
              "      <td>-2.000000</td>\n",
              "      <td>-2.000000</td>\n",
              "      <td>-2.000000</td>\n",
              "      <td>-2.000000</td>\n",
              "      <td>-2.000000</td>\n",
              "      <td>-2.000000</td>\n",
              "      <td>-11545.000000</td>\n",
              "      <td>-69777.000000</td>\n",
              "      <td>-46127.000000</td>\n",
              "      <td>-50616.000000</td>\n",
              "      <td>-53007.000000</td>\n",
              "      <td>-94625.000000</td>\n",
              "      <td>0.000000</td>\n",
              "      <td>0.000000</td>\n",
              "      <td>0.000000</td>\n",
              "      <td>0.000000</td>\n",
              "      <td>0.000000</td>\n",
              "      <td>0.000000</td>\n",
              "      <td>0.000000</td>\n",
              "      <td>-11545.000000</td>\n",
              "      <td>0.000000</td>\n",
              "    </tr>\n",
              "    <tr>\n",
              "      <th>25%</th>\n",
              "      <td>50000.000000</td>\n",
              "      <td>1.000000</td>\n",
              "      <td>1.000000</td>\n",
              "      <td>1.000000</td>\n",
              "      <td>28.000000</td>\n",
              "      <td>-1.000000</td>\n",
              "      <td>-1.000000</td>\n",
              "      <td>-1.000000</td>\n",
              "      <td>-1.000000</td>\n",
              "      <td>-1.000000</td>\n",
              "      <td>-1.000000</td>\n",
              "      <td>2562.250000</td>\n",
              "      <td>2087.500000</td>\n",
              "      <td>1724.500000</td>\n",
              "      <td>1449.000000</td>\n",
              "      <td>1051.250000</td>\n",
              "      <td>780.000000</td>\n",
              "      <td>536.250000</td>\n",
              "      <td>402.250000</td>\n",
              "      <td>246.000000</td>\n",
              "      <td>40.000000</td>\n",
              "      <td>0.000000</td>\n",
              "      <td>0.000000</td>\n",
              "      <td>0.000000</td>\n",
              "      <td>2562.250000</td>\n",
              "      <td>966.666667</td>\n",
              "    </tr>\n",
              "    <tr>\n",
              "      <th>50%</th>\n",
              "      <td>110000.000000</td>\n",
              "      <td>2.000000</td>\n",
              "      <td>2.000000</td>\n",
              "      <td>2.000000</td>\n",
              "      <td>34.000000</td>\n",
              "      <td>0.000000</td>\n",
              "      <td>0.000000</td>\n",
              "      <td>0.000000</td>\n",
              "      <td>0.000000</td>\n",
              "      <td>0.000000</td>\n",
              "      <td>0.000000</td>\n",
              "      <td>18377.500000</td>\n",
              "      <td>17620.500000</td>\n",
              "      <td>17036.000000</td>\n",
              "      <td>15622.000000</td>\n",
              "      <td>13986.500000</td>\n",
              "      <td>12190.500000</td>\n",
              "      <td>2000.000000</td>\n",
              "      <td>1851.500000</td>\n",
              "      <td>1491.500000</td>\n",
              "      <td>1079.000000</td>\n",
              "      <td>1100.000000</td>\n",
              "      <td>1011.500000</td>\n",
              "      <td>0.000000</td>\n",
              "      <td>18377.500000</td>\n",
              "      <td>1885.916667</td>\n",
              "    </tr>\n",
              "    <tr>\n",
              "      <th>75%</th>\n",
              "      <td>200000.000000</td>\n",
              "      <td>2.000000</td>\n",
              "      <td>2.000000</td>\n",
              "      <td>2.000000</td>\n",
              "      <td>41.000000</td>\n",
              "      <td>0.000000</td>\n",
              "      <td>0.000000</td>\n",
              "      <td>0.000000</td>\n",
              "      <td>0.000000</td>\n",
              "      <td>0.000000</td>\n",
              "      <td>0.000000</td>\n",
              "      <td>50447.000000</td>\n",
              "      <td>49131.750000</td>\n",
              "      <td>47090.000000</td>\n",
              "      <td>41148.500000</td>\n",
              "      <td>36252.000000</td>\n",
              "      <td>34302.000000</td>\n",
              "      <td>3816.750000</td>\n",
              "      <td>3545.500000</td>\n",
              "      <td>3008.000000</td>\n",
              "      <td>3000.000000</td>\n",
              "      <td>3000.000000</td>\n",
              "      <td>3000.000000</td>\n",
              "      <td>0.000000</td>\n",
              "      <td>50447.000000</td>\n",
              "      <td>3816.916667</td>\n",
              "    </tr>\n",
              "    <tr>\n",
              "      <th>max</th>\n",
              "      <td>800000.000000</td>\n",
              "      <td>2.000000</td>\n",
              "      <td>4.000000</td>\n",
              "      <td>3.000000</td>\n",
              "      <td>75.000000</td>\n",
              "      <td>8.000000</td>\n",
              "      <td>8.000000</td>\n",
              "      <td>8.000000</td>\n",
              "      <td>8.000000</td>\n",
              "      <td>8.000000</td>\n",
              "      <td>8.000000</td>\n",
              "      <td>162296.000000</td>\n",
              "      <td>270596.000000</td>\n",
              "      <td>351026.000000</td>\n",
              "      <td>339599.000000</td>\n",
              "      <td>268084.000000</td>\n",
              "      <td>271388.000000</td>\n",
              "      <td>68800.000000</td>\n",
              "      <td>70000.000000</td>\n",
              "      <td>68600.000000</td>\n",
              "      <td>69000.000000</td>\n",
              "      <td>70500.000000</td>\n",
              "      <td>70200.000000</td>\n",
              "      <td>1.000000</td>\n",
              "      <td>162296.000000</td>\n",
              "      <td>12289.333333</td>\n",
              "    </tr>\n",
              "  </tbody>\n",
              "</table>\n",
              "</div>"
            ],
            "text/plain": [
              "           LIMIT_BAL           SEX  ...      mean_BILL      mean_PAY\n",
              "count   25318.000000  25318.000000  ...   25318.000000  25318.000000\n",
              "mean   144338.099376      1.608184  ...   33655.081286   2730.218277\n",
              "std    116613.972470      0.488166  ...   38917.700411   2539.866616\n",
              "min     10000.000000      1.000000  ...  -11545.000000      0.000000\n",
              "25%     50000.000000      1.000000  ...    2562.250000    966.666667\n",
              "50%    110000.000000      2.000000  ...   18377.500000   1885.916667\n",
              "75%    200000.000000      2.000000  ...   50447.000000   3816.916667\n",
              "max    800000.000000      2.000000  ...  162296.000000  12289.333333\n",
              "\n",
              "[8 rows x 26 columns]"
            ]
          },
          "metadata": {
            "tags": []
          },
          "execution_count": 285
        }
      ]
    },
    {
      "cell_type": "code",
      "metadata": {
        "id": "Fdn57-Bdf0nh",
        "colab_type": "code",
        "colab": {
          "base_uri": "https://localhost:8080/",
          "height": 66
        },
        "outputId": "d9eb5178-d909-4b23-b7cb-913cc7255f11"
      },
      "source": [
        "print((1-(df1['LIMIT_BAL'].count())/(df['LIMIT_BAL'].count()))*100)\n",
        "print(df1['mean_PAY'].mean()/df['mean_PAY'].mean())\n",
        "print(df1['mean_BILL'].mean()/df['mean_BILL'].mean())"
      ],
      "execution_count": 286,
      "outputs": [
        {
          "output_type": "stream",
          "text": [
            "15.60666666666667\n",
            "0.5175541526840308\n",
            "0.6570264114948752\n"
          ],
          "name": "stdout"
        }
      ]
    },
    {
      "cell_type": "markdown",
      "metadata": {
        "id": "PzSykXiAuAWL",
        "colab_type": "text"
      },
      "source": [
        "После удаления данных с выбросами видим, что в 15% данных в 2 раза снизило среднее значение по столбцу"
      ]
    },
    {
      "cell_type": "markdown",
      "metadata": {
        "colab_type": "text",
        "id": "rhKF8q3-2V8H"
      },
      "source": [
        "# Графики количественных переменных"
      ]
    },
    {
      "cell_type": "markdown",
      "metadata": {
        "id": "uanv9gcpB7De",
        "colab_type": "text"
      },
      "source": [
        "*Рассмотрим* Графики c колличественными переменными"
      ]
    },
    {
      "cell_type": "code",
      "metadata": {
        "id": "muaYH6JTwhpA",
        "colab_type": "code",
        "outputId": "81abad57-ec31-45ba-cf06-053b70ef2e99",
        "colab": {
          "base_uri": "https://localhost:8080/",
          "height": 901
        }
      },
      "source": [
        "colm = ['LIMIT_BAL', 'AGE', 'BILL_AMT1','BILL_AMT2','BILL_AMT3','BILL_AMT4',\n",
        "        'BILL_AMT5','BILL_AMT6','mean_BILL','PAY_AMT1','PAY_AMT2','PAY_AMT3','PAY_AMT4',\n",
        "        'PAY_AMT5','PAY_AMT6','mean_PAY']\n",
        "fig = plt.figure(figsize=(19,15))\n",
        "cols =4\n",
        "rows = 4\n",
        "for i, column in enumerate(colm):\n",
        "    ax = fig.add_subplot(rows, cols, i + 1)\n",
        "    ax.set_title(column)\n",
        "    df1[column].hist(axes=ax)\n",
        "    plt.xticks(rotation=\"vertical\")\n",
        "plt.subplots_adjust(hspace=0.7, wspace=0.2)"
      ],
      "execution_count": 256,
      "outputs": [
        {
          "output_type": "display_data",
          "data": {
            "image/png": "[encoded data removed]",
            "text/plain": [
              "<Figure size 1368x1080 with 16 Axes>"
            ]
          },
          "metadata": {
            "tags": []
          }
        }
      ]
    },
    {
      "cell_type": "code",
      "metadata": {
        "id": "8oOEed5r4A_I",
        "colab_type": "code",
        "outputId": "839d04e8-42c9-4676-bc89-6eaa6c869035",
        "colab": {
          "base_uri": "https://localhost:8080/",
          "height": 296
        }
      },
      "source": [
        "sns.boxplot(df1['LIMIT_BAL'])"
      ],
      "execution_count": 287,
      "outputs": [
        {
          "output_type": "execute_result",
          "data": {
            "text/plain": [
              "<matplotlib.axes._subplots.AxesSubplot at 0x7f5a342696a0>"
            ]
          },
          "metadata": {
            "tags": []
          },
          "execution_count": 287
        },
        {
          "output_type": "display_data",
          "data": {
            "image/png": "[encoded data removed]",
            "text/plain": [
              "<Figure size 432x288 with 1 Axes>"
            ]
          },
          "metadata": {
            "tags": []
          }
        }
      ]
    },
    {
      "cell_type": "code",
      "metadata": {
        "id": "iv4UVwhVIid9",
        "colab_type": "code",
        "outputId": "5ada9dec-aa21-4ff2-f2db-4c3cf8292cb0",
        "colab": {
          "base_uri": "https://localhost:8080/",
          "height": 295
        }
      },
      "source": [
        "sns.boxplot(df1['AGE'])"
      ],
      "execution_count": 288,
      "outputs": [
        {
          "output_type": "execute_result",
          "data": {
            "text/plain": [
              "<matplotlib.axes._subplots.AxesSubplot at 0x7f5a347d6be0>"
            ]
          },
          "metadata": {
            "tags": []
          },
          "execution_count": 288
        },
        {
          "output_type": "display_data",
          "data": {
            "image/png": "[encoded data removed]",
            "text/plain": [
              "<Figure size 432x288 with 1 Axes>"
            ]
          },
          "metadata": {
            "tags": []
          }
        }
      ]
    },
    {
      "cell_type": "markdown",
      "metadata": {
        "id": "xDEyDsiE8wsP",
        "colab_type": "text"
      },
      "source": [
        "Распределение данных на графиках, отлично от нормального. Основная масса заемщиков в датасете в возрасте от 28 до 42 лет, с кр.лимитом от 60 до 200000, при этом остаток по счету от 2500 до 50000 тысяч, при платеже от 1000 до 3800\n",
        "\n",
        "\n",
        "\n"
      ]
    },
    {
      "cell_type": "markdown",
      "metadata": {
        "colab_type": "text",
        "id": "TBiMpqpZ8XeH"
      },
      "source": [
        "# Графики номинативных переменных"
      ]
    },
    {
      "cell_type": "code",
      "metadata": {
        "id": "S7fqRRRrbf4q",
        "colab_type": "code",
        "outputId": "bcce358c-2091-4991-db78-627355e00786",
        "colab": {
          "base_uri": "https://localhost:8080/",
          "height": 1000
        }
      },
      "source": [
        "cols = ['default payment next month', 'EDUCATION', 'SEX', 'MARRIAGE',\n",
        "        'PAY_0','PAY_2','PAY_3','PAY_4','PAY_5','PAY_6']\n",
        "\n",
        "nr_rows = 5\n",
        "nr_cols = 2\n",
        "\n",
        "fig, axs = plt.subplots(nr_rows, nr_cols, figsize=(nr_cols*3.5,nr_rows*3))\n",
        "\n",
        "for r in range(0,nr_rows):\n",
        "    for c in range(0,nr_cols):  \n",
        "        \n",
        "        i = r*nr_cols+c       \n",
        "        ax = axs[r][c]\n",
        "        sns.countplot(df1[cols[i]], hue=df1[\"default payment next month\"], ax=ax)\n",
        "        ax.set_title(cols[i], fontsize=10, fontweight='bold')\n",
        "        ax.legend(title=\"default payment next month\", loc='upper center') \n",
        "        \n",
        "plt.tight_layout() "
      ],
      "execution_count": 289,
      "outputs": [
        {
          "output_type": "display_data",
          "data": {
            "image/png": "[encoded data removed]",
            "text/plain": [
              "<Figure size 504x1080 with 10 Axes>"
            ]
          },
          "metadata": {
            "tags": []
          }
        }
      ]
    },
    {
      "cell_type": "code",
      "metadata": {
        "id": "6j0tRJm19uVZ",
        "colab_type": "code",
        "colab": {
          "base_uri": "https://localhost:8080/",
          "height": 892
        },
        "outputId": "57f6a51c-f632-4f0f-a8d0-554f53c60559"
      },
      "source": [
        "fig, axs = plt.subplots(nr_rows, nr_cols, figsize=(nr_cols*3.5,nr_rows*3))\n",
        "\n",
        "for r in range(0,nr_rows):\n",
        "    for c in range(0,nr_cols):  \n",
        "        \n",
        "        i = r*nr_cols+c       \n",
        "        ax = axs[r][c]\n",
        "        sns.countplot(df1[cols[i]], hue=df1[\"MARRIAGE\"], ax=ax)\n",
        "        ax.set_title(cols[i], fontsize=10, fontweight='bold')\n",
        "        ax.legend(title=\"MARRIAGE\", loc='upper center') "
      ],
      "execution_count": 290,
      "outputs": [
        {
          "output_type": "display_data",
          "data": {
            "image/png": "[encoded data removed]",
            "text/plain": [
              "<Figure size 504x1080 with 10 Axes>"
            ]
          },
          "metadata": {
            "tags": []
          }
        }
      ]
    },
    {
      "cell_type": "markdown",
      "metadata": {
        "id": "_PZaU89H9dIW",
        "colab_type": "text"
      },
      "source": [
        "Графики представлены в виде сравнительных баров между классами относительно переменной,содержаший факт ополаты\\неоплаты по кред.\n",
        "Подавляющее большинстово клиентов оплатило кредит, образование и пол практически не связано с фактом оплаты. Возможно есть какая-то взаимосвязь между фактом оплаты и семейным положением, среди холостых относительно состоящих в браке примерно одинаковое число неплательщиков, при значительно большем кол-ве заплативших.Так же возможно есть взаимосвязь между уровнем обраования и семейным положением, большинство аспирантов холосты.Так же на уровень оплаты\\не оплаты возможно влияет срок отсрочки платежа.Чем больше срок, тем меньше вероятность оплаты. \n",
        "\n"
      ]
    },
    {
      "cell_type": "markdown",
      "metadata": {
        "id": "UpRldZmDs6_R",
        "colab_type": "text"
      },
      "source": [
        "#Матрица корреляций"
      ]
    },
    {
      "cell_type": "code",
      "metadata": {
        "id": "0-RbJfMX3A-z",
        "colab_type": "code",
        "outputId": "b240c34f-7bbe-4263-bfd5-0b49cacb1fd8",
        "colab": {
          "base_uri": "https://localhost:8080/",
          "height": 1000
        }
      },
      "source": [
        "corrmat=df1.corr()\n",
        "cg=sns.clustermap(corrmat, cmap=\"YlGnBu\", linewidths=0.1)\n",
        "plt.setp(cg.ax_heatmap.yaxis.get_majorticklabels())\n",
        "#.get_majorticklabels(),rotation=0"
      ],
      "execution_count": 291,
      "outputs": [
        {
          "output_type": "stream",
          "text": [
            "  agg_filter: a filter function, which takes a (m, n, 3) float array and a dpi value, and returns a (m, n, 3) array\n",
            "  alpha: float\n",
            "  animated: bool\n",
            "  backgroundcolor: color\n",
            "  bbox: dict with properties for `.patches.FancyBboxPatch`\n",
            "  clip_box: `.Bbox`\n",
            "  clip_on: bool\n",
            "  clip_path: [(`~matplotlib.path.Path`, `.Transform`) | `.Patch` | None]\n",
            "  color or c: color\n",
            "  contains: callable\n",
            "  figure: `.Figure`\n",
            "  fontfamily or family: {FONTNAME, 'serif', 'sans-serif', 'cursive', 'fantasy', 'monospace'}\n",
            "  fontproperties or font_properties: `.font_manager.FontProperties`\n",
            "  fontsize or size: {size in points, 'xx-small', 'x-small', 'small', 'medium', 'large', 'x-large', 'xx-large'}\n",
            "  fontstretch or stretch: {a numeric value in range 0-1000, 'ultra-condensed', 'extra-condensed', 'condensed', 'semi-condensed', 'normal', 'semi-expanded', 'expanded', 'extra-expanded', 'ultra-expanded'}\n",
            "  fontstyle or style: {'normal', 'italic', 'oblique'}\n",
            "  fontvariant or variant: {'normal', 'small-caps'}\n",
            "  fontweight or weight: {a numeric value in range 0-1000, 'ultralight', 'light', 'normal', 'regular', 'book', 'medium', 'roman', 'semibold', 'demibold', 'demi', 'bold', 'heavy', 'extra bold', 'black'}\n",
            "  gid: str\n",
            "  horizontalalignment or ha: {'center', 'right', 'left'}\n",
            "  in_layout: bool\n",
            "  label: object\n",
            "  linespacing: float (multiple of font size)\n",
            "  multialignment or ma: {'left', 'right', 'center'}\n",
            "  path_effects: `.AbstractPathEffect`\n",
            "  picker: None or bool or float or callable\n",
            "  position: (float, float)\n",
            "  rasterized: bool or None\n",
            "  rotation: {angle in degrees, 'vertical', 'horizontal'}\n",
            "  rotation_mode: {None, 'default', 'anchor'}\n",
            "  sketch_params: (scale: float, length: float, randomness: float)\n",
            "  snap: bool or None\n",
            "  text: object\n",
            "  transform: `.Transform`\n",
            "  url: str\n",
            "  usetex: bool or None\n",
            "  verticalalignment or va: {'center', 'top', 'bottom', 'baseline', 'center_baseline'}\n",
            "  visible: bool\n",
            "  wrap: bool\n",
            "  x: float\n",
            "  y: float\n",
            "  zorder: float\n"
          ],
          "name": "stdout"
        },
        {
          "output_type": "display_data",
          "data": {
            "image/png": "[encoded data removed]",
            "text/plain": [
              "<Figure size 720x720 with 4 Axes>"
            ]
          },
          "metadata": {
            "tags": []
          }
        }
      ]
    },
    {
      "cell_type": "markdown",
      "metadata": {
        "id": "srPf3NpgFq0w",
        "colab_type": "text"
      },
      "source": [
        "Более ярко выраженно коррелируют между собой блоки переменных Остаток, Платежи. Наиболее сильная линейная взаимосвязь переменной факт\\оплаты неоплаты с реременной отсрочка платежа.\n",
        " "
      ]
    },
    {
      "cell_type": "markdown",
      "metadata": {
        "colab_type": "text",
        "id": "FvhPnQH8HGx8"
      },
      "source": [
        "#Итог"
      ]
    },
    {
      "cell_type": "markdown",
      "metadata": {
        "id": "acmMHcoxHUgT",
        "colab_type": "text"
      },
      "source": [
        "Данные содержат 30000 строк\n",
        "\n",
        "включают в себя 14 количественныхых переменных, 10 номинативных переменных\n",
        "\n",
        "количественные содержат большое кол-во выбросов, распределение ненормальное\n",
        "\n",
        "Для дальнейшего анализа нужно исключить из выборки значительную часть данных м нормализовать данные, либо использовать методы анализа устойчивые к выбросам(в частности группировку данных)\n",
        "\n",
        "\n",
        "\n"
      ]
    }
  ]
}